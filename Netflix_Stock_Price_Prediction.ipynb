{
 "cells": [
  {
   "cell_type": "markdown",
   "id": "47e45473",
   "metadata": {},
   "source": [
    "# IMPORTING PACKAGES"
   ]
  },
  {
   "cell_type": "code",
   "execution_count": 53,
   "id": "722cdfcc",
   "metadata": {},
   "outputs": [],
   "source": [
    "import numpy as np\n",
    "import pandas as pd"
   ]
  },
  {
   "cell_type": "code",
   "execution_count": 54,
   "id": "ef516ee7",
   "metadata": {},
   "outputs": [],
   "source": [
    "import matplotlib.pyplot as plt"
   ]
  },
  {
   "cell_type": "markdown",
   "id": "b1ab71ee",
   "metadata": {},
   "source": [
    "# LOADING DATASET"
   ]
  },
  {
   "cell_type": "code",
   "execution_count": 67,
   "id": "d3965f9d",
   "metadata": {},
   "outputs": [],
   "source": [
    "df=pd.read_csv(\"C:/Users/KARTHIKA/Downloads/NSPP/dataset/NFLX.csv\")"
   ]
  },
  {
   "cell_type": "code",
   "execution_count": 68,
   "id": "692d425b",
   "metadata": {},
   "outputs": [
    {
     "data": {
      "text/html": [
       "<div>\n",
       "<style scoped>\n",
       "    .dataframe tbody tr th:only-of-type {\n",
       "        vertical-align: middle;\n",
       "    }\n",
       "\n",
       "    .dataframe tbody tr th {\n",
       "        vertical-align: top;\n",
       "    }\n",
       "\n",
       "    .dataframe thead th {\n",
       "        text-align: right;\n",
       "    }\n",
       "</style>\n",
       "<table border=\"1\" class=\"dataframe\">\n",
       "  <thead>\n",
       "    <tr style=\"text-align: right;\">\n",
       "      <th></th>\n",
       "      <th>Date</th>\n",
       "      <th>Open</th>\n",
       "      <th>High</th>\n",
       "      <th>Low</th>\n",
       "      <th>Close</th>\n",
       "      <th>Adj Close</th>\n",
       "      <th>Volume</th>\n",
       "    </tr>\n",
       "  </thead>\n",
       "  <tbody>\n",
       "    <tr>\n",
       "      <th>0</th>\n",
       "      <td>2003-08-01</td>\n",
       "      <td>1.851429</td>\n",
       "      <td>1.857143</td>\n",
       "      <td>1.782143</td>\n",
       "      <td>1.782143</td>\n",
       "      <td>1.782143</td>\n",
       "      <td>6339200</td>\n",
       "    </tr>\n",
       "    <tr>\n",
       "      <th>1</th>\n",
       "      <td>2003-08-04</td>\n",
       "      <td>1.782143</td>\n",
       "      <td>1.797143</td>\n",
       "      <td>1.735714</td>\n",
       "      <td>1.782143</td>\n",
       "      <td>1.782143</td>\n",
       "      <td>3676400</td>\n",
       "    </tr>\n",
       "    <tr>\n",
       "      <th>2</th>\n",
       "      <td>2003-08-05</td>\n",
       "      <td>1.792857</td>\n",
       "      <td>1.817857</td>\n",
       "      <td>1.732857</td>\n",
       "      <td>1.736429</td>\n",
       "      <td>1.736429</td>\n",
       "      <td>3084200</td>\n",
       "    </tr>\n",
       "    <tr>\n",
       "      <th>3</th>\n",
       "      <td>2003-08-06</td>\n",
       "      <td>1.742857</td>\n",
       "      <td>1.750000</td>\n",
       "      <td>1.633571</td>\n",
       "      <td>1.668571</td>\n",
       "      <td>1.668571</td>\n",
       "      <td>8113000</td>\n",
       "    </tr>\n",
       "    <tr>\n",
       "      <th>4</th>\n",
       "      <td>2003-08-07</td>\n",
       "      <td>1.650714</td>\n",
       "      <td>1.667857</td>\n",
       "      <td>1.614286</td>\n",
       "      <td>1.649286</td>\n",
       "      <td>1.649286</td>\n",
       "      <td>7893200</td>\n",
       "    </tr>\n",
       "  </tbody>\n",
       "</table>\n",
       "</div>"
      ],
      "text/plain": [
       "         Date      Open      High       Low     Close  Adj Close   Volume\n",
       "0  2003-08-01  1.851429  1.857143  1.782143  1.782143   1.782143  6339200\n",
       "1  2003-08-04  1.782143  1.797143  1.735714  1.782143   1.782143  3676400\n",
       "2  2003-08-05  1.792857  1.817857  1.732857  1.736429   1.736429  3084200\n",
       "3  2003-08-06  1.742857  1.750000  1.633571  1.668571   1.668571  8113000\n",
       "4  2003-08-07  1.650714  1.667857  1.614286  1.649286   1.649286  7893200"
      ]
     },
     "execution_count": 68,
     "metadata": {},
     "output_type": "execute_result"
    }
   ],
   "source": [
    "df.head()"
   ]
  },
  {
   "cell_type": "markdown",
   "id": "cd4491fc",
   "metadata": {},
   "source": [
    "# CONVERTING \"DATE\" COL INTO DATE FORMAT AND SORTING "
   ]
  },
  {
   "cell_type": "code",
   "execution_count": 69,
   "id": "14909c39",
   "metadata": {},
   "outputs": [
    {
     "data": {
      "text/html": [
       "<div>\n",
       "<style scoped>\n",
       "    .dataframe tbody tr th:only-of-type {\n",
       "        vertical-align: middle;\n",
       "    }\n",
       "\n",
       "    .dataframe tbody tr th {\n",
       "        vertical-align: top;\n",
       "    }\n",
       "\n",
       "    .dataframe thead th {\n",
       "        text-align: right;\n",
       "    }\n",
       "</style>\n",
       "<table border=\"1\" class=\"dataframe\">\n",
       "  <thead>\n",
       "    <tr style=\"text-align: right;\">\n",
       "      <th></th>\n",
       "      <th>Date</th>\n",
       "      <th>Open</th>\n",
       "      <th>High</th>\n",
       "      <th>Low</th>\n",
       "      <th>Close</th>\n",
       "      <th>Adj Close</th>\n",
       "      <th>Volume</th>\n",
       "    </tr>\n",
       "  </thead>\n",
       "  <tbody>\n",
       "    <tr>\n",
       "      <th>0</th>\n",
       "      <td>2003-08-01</td>\n",
       "      <td>1.851429</td>\n",
       "      <td>1.857143</td>\n",
       "      <td>1.782143</td>\n",
       "      <td>1.782143</td>\n",
       "      <td>1.782143</td>\n",
       "      <td>6339200</td>\n",
       "    </tr>\n",
       "    <tr>\n",
       "      <th>1</th>\n",
       "      <td>2003-08-04</td>\n",
       "      <td>1.782143</td>\n",
       "      <td>1.797143</td>\n",
       "      <td>1.735714</td>\n",
       "      <td>1.782143</td>\n",
       "      <td>1.782143</td>\n",
       "      <td>3676400</td>\n",
       "    </tr>\n",
       "    <tr>\n",
       "      <th>2</th>\n",
       "      <td>2003-08-05</td>\n",
       "      <td>1.792857</td>\n",
       "      <td>1.817857</td>\n",
       "      <td>1.732857</td>\n",
       "      <td>1.736429</td>\n",
       "      <td>1.736429</td>\n",
       "      <td>3084200</td>\n",
       "    </tr>\n",
       "    <tr>\n",
       "      <th>3</th>\n",
       "      <td>2003-08-06</td>\n",
       "      <td>1.742857</td>\n",
       "      <td>1.750000</td>\n",
       "      <td>1.633571</td>\n",
       "      <td>1.668571</td>\n",
       "      <td>1.668571</td>\n",
       "      <td>8113000</td>\n",
       "    </tr>\n",
       "    <tr>\n",
       "      <th>4</th>\n",
       "      <td>2003-08-07</td>\n",
       "      <td>1.650714</td>\n",
       "      <td>1.667857</td>\n",
       "      <td>1.614286</td>\n",
       "      <td>1.649286</td>\n",
       "      <td>1.649286</td>\n",
       "      <td>7893200</td>\n",
       "    </tr>\n",
       "  </tbody>\n",
       "</table>\n",
       "</div>"
      ],
      "text/plain": [
       "        Date      Open      High       Low     Close  Adj Close   Volume\n",
       "0 2003-08-01  1.851429  1.857143  1.782143  1.782143   1.782143  6339200\n",
       "1 2003-08-04  1.782143  1.797143  1.735714  1.782143   1.782143  3676400\n",
       "2 2003-08-05  1.792857  1.817857  1.732857  1.736429   1.736429  3084200\n",
       "3 2003-08-06  1.742857  1.750000  1.633571  1.668571   1.668571  8113000\n",
       "4 2003-08-07  1.650714  1.667857  1.614286  1.649286   1.649286  7893200"
      ]
     },
     "execution_count": 69,
     "metadata": {},
     "output_type": "execute_result"
    }
   ],
   "source": [
    "df['Date'] = pd.to_datetime(df['Date'])\n",
    "df = df.sort_values(by = 'Date')\n",
    "df.head()"
   ]
  },
  {
   "cell_type": "markdown",
   "id": "b1ae9a1e",
   "metadata": {},
   "source": [
    "# SETTING DATE COL AS INDEX"
   ]
  },
  {
   "cell_type": "code",
   "execution_count": 70,
   "id": "72baa5e2",
   "metadata": {},
   "outputs": [],
   "source": [
    "df.set_index('Date', inplace=True)"
   ]
  },
  {
   "cell_type": "code",
   "execution_count": 71,
   "id": "e22c94ed",
   "metadata": {},
   "outputs": [
    {
     "data": {
      "text/plain": [
       "(4299, 6)"
      ]
     },
     "execution_count": 71,
     "metadata": {},
     "output_type": "execute_result"
    }
   ],
   "source": [
    "df.shape"
   ]
  },
  {
   "cell_type": "code",
   "execution_count": 59,
   "id": "ef004384",
   "metadata": {},
   "outputs": [
    {
     "data": {
      "text/html": [
       "<div>\n",
       "<style scoped>\n",
       "    .dataframe tbody tr th:only-of-type {\n",
       "        vertical-align: middle;\n",
       "    }\n",
       "\n",
       "    .dataframe tbody tr th {\n",
       "        vertical-align: top;\n",
       "    }\n",
       "\n",
       "    .dataframe thead th {\n",
       "        text-align: right;\n",
       "    }\n",
       "</style>\n",
       "<table border=\"1\" class=\"dataframe\">\n",
       "  <thead>\n",
       "    <tr style=\"text-align: right;\">\n",
       "      <th></th>\n",
       "      <th>Open</th>\n",
       "      <th>High</th>\n",
       "      <th>Low</th>\n",
       "      <th>Close</th>\n",
       "      <th>Adj Close</th>\n",
       "      <th>Volume</th>\n",
       "    </tr>\n",
       "  </thead>\n",
       "  <tbody>\n",
       "    <tr>\n",
       "      <th>count</th>\n",
       "      <td>4299.000000</td>\n",
       "      <td>4299.000000</td>\n",
       "      <td>4299.000000</td>\n",
       "      <td>4299.000000</td>\n",
       "      <td>4299.000000</td>\n",
       "      <td>4.299000e+03</td>\n",
       "    </tr>\n",
       "    <tr>\n",
       "      <th>mean</th>\n",
       "      <td>85.137456</td>\n",
       "      <td>86.506299</td>\n",
       "      <td>83.731468</td>\n",
       "      <td>85.187151</td>\n",
       "      <td>85.187151</td>\n",
       "      <td>1.816332e+07</td>\n",
       "    </tr>\n",
       "    <tr>\n",
       "      <th>std</th>\n",
       "      <td>123.252283</td>\n",
       "      <td>125.243608</td>\n",
       "      <td>121.193015</td>\n",
       "      <td>123.337870</td>\n",
       "      <td>123.337870</td>\n",
       "      <td>2.003304e+07</td>\n",
       "    </tr>\n",
       "    <tr>\n",
       "      <th>min</th>\n",
       "      <td>1.300000</td>\n",
       "      <td>1.317143</td>\n",
       "      <td>1.272857</td>\n",
       "      <td>1.290000</td>\n",
       "      <td>1.290000</td>\n",
       "      <td>1.493800e+06</td>\n",
       "    </tr>\n",
       "    <tr>\n",
       "      <th>25%</th>\n",
       "      <td>4.143572</td>\n",
       "      <td>4.220000</td>\n",
       "      <td>4.067858</td>\n",
       "      <td>4.142857</td>\n",
       "      <td>4.142857</td>\n",
       "      <td>7.197400e+06</td>\n",
       "    </tr>\n",
       "    <tr>\n",
       "      <th>50%</th>\n",
       "      <td>22.384285</td>\n",
       "      <td>22.858572</td>\n",
       "      <td>21.722857</td>\n",
       "      <td>22.245714</td>\n",
       "      <td>22.245714</td>\n",
       "      <td>1.196440e+07</td>\n",
       "    </tr>\n",
       "    <tr>\n",
       "      <th>75%</th>\n",
       "      <td>105.120003</td>\n",
       "      <td>107.360000</td>\n",
       "      <td>102.685001</td>\n",
       "      <td>105.280002</td>\n",
       "      <td>105.280002</td>\n",
       "      <td>2.165660e+07</td>\n",
       "    </tr>\n",
       "    <tr>\n",
       "      <th>max</th>\n",
       "      <td>567.979980</td>\n",
       "      <td>575.369995</td>\n",
       "      <td>521.250000</td>\n",
       "      <td>548.729980</td>\n",
       "      <td>548.729980</td>\n",
       "      <td>3.234140e+08</td>\n",
       "    </tr>\n",
       "  </tbody>\n",
       "</table>\n",
       "</div>"
      ],
      "text/plain": [
       "              Open         High          Low        Close    Adj Close  \\\n",
       "count  4299.000000  4299.000000  4299.000000  4299.000000  4299.000000   \n",
       "mean     85.137456    86.506299    83.731468    85.187151    85.187151   \n",
       "std     123.252283   125.243608   121.193015   123.337870   123.337870   \n",
       "min       1.300000     1.317143     1.272857     1.290000     1.290000   \n",
       "25%       4.143572     4.220000     4.067858     4.142857     4.142857   \n",
       "50%      22.384285    22.858572    21.722857    22.245714    22.245714   \n",
       "75%     105.120003   107.360000   102.685001   105.280002   105.280002   \n",
       "max     567.979980   575.369995   521.250000   548.729980   548.729980   \n",
       "\n",
       "             Volume  \n",
       "count  4.299000e+03  \n",
       "mean   1.816332e+07  \n",
       "std    2.003304e+07  \n",
       "min    1.493800e+06  \n",
       "25%    7.197400e+06  \n",
       "50%    1.196440e+07  \n",
       "75%    2.165660e+07  \n",
       "max    3.234140e+08  "
      ]
     },
     "execution_count": 59,
     "metadata": {},
     "output_type": "execute_result"
    }
   ],
   "source": [
    "df.describe()"
   ]
  },
  {
   "cell_type": "code",
   "execution_count": 60,
   "id": "af3394f4",
   "metadata": {},
   "outputs": [
    {
     "name": "stdout",
     "output_type": "stream",
     "text": [
      "<class 'pandas.core.frame.DataFrame'>\n",
      "Index: 4299 entries, 2003-08-01 to 2020-08-27\n",
      "Data columns (total 6 columns):\n",
      " #   Column     Non-Null Count  Dtype  \n",
      "---  ------     --------------  -----  \n",
      " 0   Open       4299 non-null   float64\n",
      " 1   High       4299 non-null   float64\n",
      " 2   Low        4299 non-null   float64\n",
      " 3   Close      4299 non-null   float64\n",
      " 4   Adj Close  4299 non-null   float64\n",
      " 5   Volume     4299 non-null   int64  \n",
      "dtypes: float64(5), int64(1)\n",
      "memory usage: 235.1+ KB\n"
     ]
    }
   ],
   "source": [
    "df.info()"
   ]
  },
  {
   "cell_type": "code",
   "execution_count": 61,
   "id": "5d4f1e61",
   "metadata": {},
   "outputs": [
    {
     "data": {
      "text/plain": [
       "Open         0\n",
       "High         0\n",
       "Low          0\n",
       "Close        0\n",
       "Adj Close    0\n",
       "Volume       0\n",
       "dtype: int64"
      ]
     },
     "execution_count": 61,
     "metadata": {},
     "output_type": "execute_result"
    }
   ],
   "source": [
    "df.isnull().sum()"
   ]
  },
  {
   "cell_type": "code",
   "execution_count": 72,
   "id": "94f81e9e",
   "metadata": {},
   "outputs": [
    {
     "data": {
      "text/html": [
       "<div>\n",
       "<style scoped>\n",
       "    .dataframe tbody tr th:only-of-type {\n",
       "        vertical-align: middle;\n",
       "    }\n",
       "\n",
       "    .dataframe tbody tr th {\n",
       "        vertical-align: top;\n",
       "    }\n",
       "\n",
       "    .dataframe thead th {\n",
       "        text-align: right;\n",
       "    }\n",
       "</style>\n",
       "<table border=\"1\" class=\"dataframe\">\n",
       "  <thead>\n",
       "    <tr style=\"text-align: right;\">\n",
       "      <th></th>\n",
       "      <th>Open</th>\n",
       "      <th>High</th>\n",
       "      <th>Low</th>\n",
       "      <th>Close</th>\n",
       "      <th>Adj Close</th>\n",
       "      <th>Volume</th>\n",
       "    </tr>\n",
       "    <tr>\n",
       "      <th>Date</th>\n",
       "      <th></th>\n",
       "      <th></th>\n",
       "      <th></th>\n",
       "      <th></th>\n",
       "      <th></th>\n",
       "      <th></th>\n",
       "    </tr>\n",
       "  </thead>\n",
       "  <tbody>\n",
       "    <tr>\n",
       "      <th>2003-08-01</th>\n",
       "      <td>1.851429</td>\n",
       "      <td>1.857143</td>\n",
       "      <td>1.782143</td>\n",
       "      <td>1.782143</td>\n",
       "      <td>1.782143</td>\n",
       "      <td>6339200</td>\n",
       "    </tr>\n",
       "    <tr>\n",
       "      <th>2003-08-04</th>\n",
       "      <td>1.782143</td>\n",
       "      <td>1.797143</td>\n",
       "      <td>1.735714</td>\n",
       "      <td>1.782143</td>\n",
       "      <td>1.782143</td>\n",
       "      <td>3676400</td>\n",
       "    </tr>\n",
       "    <tr>\n",
       "      <th>2003-08-05</th>\n",
       "      <td>1.792857</td>\n",
       "      <td>1.817857</td>\n",
       "      <td>1.732857</td>\n",
       "      <td>1.736429</td>\n",
       "      <td>1.736429</td>\n",
       "      <td>3084200</td>\n",
       "    </tr>\n",
       "    <tr>\n",
       "      <th>2003-08-06</th>\n",
       "      <td>1.742857</td>\n",
       "      <td>1.750000</td>\n",
       "      <td>1.633571</td>\n",
       "      <td>1.668571</td>\n",
       "      <td>1.668571</td>\n",
       "      <td>8113000</td>\n",
       "    </tr>\n",
       "    <tr>\n",
       "      <th>2003-08-07</th>\n",
       "      <td>1.650714</td>\n",
       "      <td>1.667857</td>\n",
       "      <td>1.614286</td>\n",
       "      <td>1.649286</td>\n",
       "      <td>1.649286</td>\n",
       "      <td>7893200</td>\n",
       "    </tr>\n",
       "  </tbody>\n",
       "</table>\n",
       "</div>"
      ],
      "text/plain": [
       "                Open      High       Low     Close  Adj Close   Volume\n",
       "Date                                                                  \n",
       "2003-08-01  1.851429  1.857143  1.782143  1.782143   1.782143  6339200\n",
       "2003-08-04  1.782143  1.797143  1.735714  1.782143   1.782143  3676400\n",
       "2003-08-05  1.792857  1.817857  1.732857  1.736429   1.736429  3084200\n",
       "2003-08-06  1.742857  1.750000  1.633571  1.668571   1.668571  8113000\n",
       "2003-08-07  1.650714  1.667857  1.614286  1.649286   1.649286  7893200"
      ]
     },
     "execution_count": 72,
     "metadata": {},
     "output_type": "execute_result"
    }
   ],
   "source": [
    "df.head()"
   ]
  },
  {
   "cell_type": "markdown",
   "id": "7b2b1b62",
   "metadata": {},
   "source": [
    "# VISUALIZING CLOSE PRICE EVOLUTION"
   ]
  },
  {
   "cell_type": "code",
   "execution_count": 73,
   "id": "383dff0b",
   "metadata": {},
   "outputs": [
    {
     "data": {
      "image/png": "[encoded data removed]",
      "text/plain": [
       "<Figure size 1008x432 with 1 Axes>"
      ]
     },
     "metadata": {
      "needs_background": "light"
     },
     "output_type": "display_data"
    }
   ],
   "source": [
    "plt.figure(figsize=(14,6)) \n",
    "plt.plot(df.index,df[\"Close\"],color=\"red\")\n",
    "plt.title(\"Close Price Evolution over years\")\n",
    "plt.xlabel(\"Date\")\n",
    "plt.ylabel(\"Value\")\n",
    "plt.show()"
   ]
  },
  {
   "cell_type": "code",
   "execution_count": 74,
   "id": "b65d7b5c",
   "metadata": {},
   "outputs": [],
   "source": [
    "#Gonna use \"Close price\" col for the rest of work\n",
    "close_data=df.filter(['Close'])\n",
    "#convert the dataset to an numpy array\n",
    "dataset=close_data.values"
   ]
  },
  {
   "cell_type": "code",
   "execution_count": 75,
   "id": "c221f7f4",
   "metadata": {},
   "outputs": [
    {
     "data": {
      "text/plain": [
       "array([[  1.782143],\n",
       "       [  1.782143],\n",
       "       [  1.736429],\n",
       "       ...,\n",
       "       [490.579987],\n",
       "       [547.530029],\n",
       "       [526.27002 ]])"
      ]
     },
     "execution_count": 75,
     "metadata": {},
     "output_type": "execute_result"
    }
   ],
   "source": [
    "dataset"
   ]
  },
  {
   "cell_type": "code",
   "execution_count": 76,
   "id": "8d6c3b5f",
   "metadata": {},
   "outputs": [
    {
     "data": {
      "text/plain": [
       "3009"
      ]
     },
     "execution_count": 76,
     "metadata": {},
     "output_type": "execute_result"
    }
   ],
   "source": [
    "training_data_count=round(len(dataset)*.7)\n",
    "training_data_count"
   ]
  },
  {
   "cell_type": "code",
   "execution_count": 77,
   "id": "2fec68a5",
   "metadata": {},
   "outputs": [],
   "source": [
    "#data scaling\n",
    "from sklearn.preprocessing import MinMaxScaler"
   ]
  },
  {
   "cell_type": "code",
   "execution_count": 78,
   "id": "57861169",
   "metadata": {},
   "outputs": [
    {
     "data": {
      "text/plain": [
       "array([[8.98989876e-04],\n",
       "       [8.98989876e-04],\n",
       "       [8.15484832e-04],\n",
       "       ...,\n",
       "       [8.93778323e-01],\n",
       "       [9.97808068e-01],\n",
       "       [9.58972744e-01]])"
      ]
     },
     "execution_count": 78,
     "metadata": {},
     "output_type": "execute_result"
    }
   ],
   "source": [
    "Scaler=MinMaxScaler(feature_range=(0,1))\n",
    "scaled_data=Scaler.fit_transform(dataset)\n",
    "\n",
    "scaled_data"
   ]
  },
  {
   "cell_type": "code",
   "execution_count": 79,
   "id": "17311344",
   "metadata": {},
   "outputs": [],
   "source": [
    "#creating training dataset\n",
    "train_data=scaled_data[0:training_data_count,:]\n",
    "#split the data\n",
    "x_train=[]\n",
    "y_train=[]\n",
    "\n",
    "for i in range(60,len(train_data)):\n",
    "    x_train.append(train_data[i-60:i,0])\n",
    "    y_train.append(train_data[i,0])"
   ]
  },
  {
   "cell_type": "code",
   "execution_count": 80,
   "id": "1789d652",
   "metadata": {},
   "outputs": [],
   "source": [
    "#converting x_train,y_train into numpy arrays\n",
    "x_train,y_train=np.array(x_train),np.array(y_train)"
   ]
  },
  {
   "cell_type": "code",
   "execution_count": 81,
   "id": "c4b13ce0",
   "metadata": {},
   "outputs": [
    {
     "data": {
      "text/plain": [
       "(2949, 60, 1)"
      ]
     },
     "execution_count": 81,
     "metadata": {},
     "output_type": "execute_result"
    }
   ],
   "source": [
    "#reshape to three dimensional\n",
    "x_train=np.reshape(x_train,(x_train.shape[0],x_train.shape[1],1))\n",
    "x_train.shape"
   ]
  },
  {
   "cell_type": "markdown",
   "id": "65dd1688",
   "metadata": {},
   "source": [
    "# BUILDING LSTM MODEL"
   ]
  },
  {
   "cell_type": "code",
   "execution_count": 82,
   "id": "cb2a81a6",
   "metadata": {},
   "outputs": [],
   "source": [
    "#building LSTM model\n",
    "from keras.models import Sequential\n",
    "from keras.layers import Dense,Activation,Dropout\n",
    "from keras.optimizers import Adam\n",
    "from keras.models import load_model\n",
    "import keras.backend as K\n",
    "from keras.layers import LSTM"
   ]
  },
  {
   "cell_type": "code",
   "execution_count": 83,
   "id": "76edf583",
   "metadata": {},
   "outputs": [],
   "source": [
    "model=Sequential()\n",
    "model.add(LSTM(50,return_sequences=True,input_shape=(x_train.shape[1],1)))\n",
    "model.add(LSTM(50,return_sequences=False))\n",
    "model.add(Dense(25))\n",
    "model.add(Dense(1))"
   ]
  },
  {
   "cell_type": "code",
   "execution_count": 84,
   "id": "99e75dc5",
   "metadata": {},
   "outputs": [],
   "source": [
    "model.compile(optimizer='adam',loss=\"mean_squared_error\")"
   ]
  },
  {
   "cell_type": "code",
   "execution_count": 85,
   "id": "41481a27",
   "metadata": {},
   "outputs": [
    {
     "name": "stdout",
     "output_type": "stream",
     "text": [
      "Epoch 1/20\n",
      "93/93 [==============================] - 7s 35ms/step - loss: 1.0271e-04\n",
      "Epoch 2/20\n",
      "93/93 [==============================] - 3s 35ms/step - loss: 1.4642e-05\n",
      "Epoch 3/20\n",
      "93/93 [==============================] - 3s 35ms/step - loss: 1.5971e-05\n",
      "Epoch 4/20\n",
      "93/93 [==============================] - 3s 35ms/step - loss: 1.5325e-05\n",
      "Epoch 5/20\n",
      "93/93 [==============================] - 3s 34ms/step - loss: 1.3333e-05\n",
      "Epoch 6/20\n",
      "93/93 [==============================] - 3s 34ms/step - loss: 9.6283e-06\n",
      "Epoch 7/20\n",
      "93/93 [==============================] - 3s 34ms/step - loss: 1.1440e-05\n",
      "Epoch 8/20\n",
      "93/93 [==============================] - 3s 34ms/step - loss: 8.1733e-06\n",
      "Epoch 9/20\n",
      "93/93 [==============================] - 3s 34ms/step - loss: 9.3698e-06\n",
      "Epoch 10/20\n",
      "93/93 [==============================] - 3s 34ms/step - loss: 8.5881e-06\n",
      "Epoch 11/20\n",
      "93/93 [==============================] - 4s 41ms/step - loss: 7.2716e-06\n",
      "Epoch 12/20\n",
      "93/93 [==============================] - 4s 40ms/step - loss: 7.0229e-06\n",
      "Epoch 13/20\n",
      "93/93 [==============================] - 4s 40ms/step - loss: 8.7383e-06\n",
      "Epoch 14/20\n",
      "93/93 [==============================] - 4s 40ms/step - loss: 8.1107e-06\n",
      "Epoch 15/20\n",
      "93/93 [==============================] - 4s 40ms/step - loss: 6.6950e-06\n",
      "Epoch 16/20\n",
      "93/93 [==============================] - 4s 39ms/step - loss: 6.3383e-06\n",
      "Epoch 17/20\n",
      "93/93 [==============================] - 4s 39ms/step - loss: 6.1656e-06\n",
      "Epoch 18/20\n",
      "93/93 [==============================] - 4s 39ms/step - loss: 5.9801e-06\n",
      "Epoch 19/20\n",
      "93/93 [==============================] - 4s 39ms/step - loss: 6.0056e-06\n",
      "Epoch 20/20\n",
      "93/93 [==============================] - 4s 39ms/step - loss: 6.6203e-06\n"
     ]
    },
    {
     "data": {
      "text/plain": [
       "<keras.callbacks.History at 0x1d3e79b77f0>"
      ]
     },
     "execution_count": 85,
     "metadata": {},
     "output_type": "execute_result"
    }
   ],
   "source": [
    "model.fit(x_train,y_train,epochs=20)"
   ]
  },
  {
   "cell_type": "markdown",
   "id": "d4510a91",
   "metadata": {},
   "source": [
    "# PREDICTION"
   ]
  },
  {
   "cell_type": "code",
   "execution_count": 86,
   "id": "5a81381a",
   "metadata": {},
   "outputs": [],
   "source": [
    "#create testing dataset\n",
    "test_data=scaled_data[training_data_count-60:,:]\n",
    "\n",
    "x_test=[]\n",
    "y_test=dataset[training_data_count:,:]#actual predicted (the 61st values)\n",
    "for i in range(60,len(test_data)):\n",
    "    x_test.append(test_data[i-60:i,0])"
   ]
  },
  {
   "cell_type": "code",
   "execution_count": 87,
   "id": "b7395382",
   "metadata": {},
   "outputs": [],
   "source": [
    "#convert into numpy array\n",
    "x_test=np.array(x_test)"
   ]
  },
  {
   "cell_type": "code",
   "execution_count": 88,
   "id": "9ec07e6c",
   "metadata": {},
   "outputs": [],
   "source": [
    "#reshape to three dimensional array\n",
    "x_test=np.reshape(x_test,(x_test.shape[0],x_test.shape[1],1))"
   ]
  },
  {
   "cell_type": "code",
   "execution_count": 89,
   "id": "9cb9697d",
   "metadata": {},
   "outputs": [
    {
     "name": "stdout",
     "output_type": "stream",
     "text": [
      "41/41 [==============================] - 1s 13ms/step\n"
     ]
    }
   ],
   "source": [
    "predicted_values=model.predict(x_test)\n",
    "predicted_values=Scaler.inverse_transform(predicted_values)#unscaling"
   ]
  },
  {
   "cell_type": "code",
   "execution_count": 90,
   "id": "e0b22a1a",
   "metadata": {},
   "outputs": [
    {
     "name": "stderr",
     "output_type": "stream",
     "text": [
      "C:\\Users\\KARTHIKA\\AppData\\Local\\Temp/ipykernel_5856/2529549262.py:3: SettingWithCopyWarning: \n",
      "A value is trying to be set on a copy of a slice from a DataFrame.\n",
      "Try using .loc[row_indexer,col_indexer] = value instead\n",
      "\n",
      "See the caveats in the documentation: https://pandas.pydata.org/pandas-docs/stable/user_guide/indexing.html#returning-a-view-versus-a-copy\n",
      "  actual[\"Predicted\"]=predicted_values\n"
     ]
    }
   ],
   "source": [
    "train=close_data[:training_data_count]\n",
    "actual=close_data[training_data_count:]\n",
    "actual[\"Predicted\"]=predicted_values"
   ]
  },
  {
   "cell_type": "code",
   "execution_count": 91,
   "id": "a354ff01",
   "metadata": {},
   "outputs": [
    {
     "data": {
      "text/html": [
       "<div>\n",
       "<style scoped>\n",
       "    .dataframe tbody tr th:only-of-type {\n",
       "        vertical-align: middle;\n",
       "    }\n",
       "\n",
       "    .dataframe tbody tr th {\n",
       "        vertical-align: top;\n",
       "    }\n",
       "\n",
       "    .dataframe thead th {\n",
       "        text-align: right;\n",
       "    }\n",
       "</style>\n",
       "<table border=\"1\" class=\"dataframe\">\n",
       "  <thead>\n",
       "    <tr style=\"text-align: right;\">\n",
       "      <th></th>\n",
       "      <th>Close</th>\n",
       "      <th>Predicted</th>\n",
       "    </tr>\n",
       "    <tr>\n",
       "      <th>Date</th>\n",
       "      <th></th>\n",
       "      <th></th>\n",
       "    </tr>\n",
       "  </thead>\n",
       "  <tbody>\n",
       "    <tr>\n",
       "      <th>2015-07-16</th>\n",
       "      <td>115.809998</td>\n",
       "      <td>99.956787</td>\n",
       "    </tr>\n",
       "    <tr>\n",
       "      <th>2015-07-17</th>\n",
       "      <td>114.769997</td>\n",
       "      <td>104.446663</td>\n",
       "    </tr>\n",
       "    <tr>\n",
       "      <th>2015-07-20</th>\n",
       "      <td>110.550003</td>\n",
       "      <td>109.229118</td>\n",
       "    </tr>\n",
       "    <tr>\n",
       "      <th>2015-07-21</th>\n",
       "      <td>112.510002</td>\n",
       "      <td>111.865112</td>\n",
       "    </tr>\n",
       "    <tr>\n",
       "      <th>2015-07-22</th>\n",
       "      <td>111.500000</td>\n",
       "      <td>113.371765</td>\n",
       "    </tr>\n",
       "    <tr>\n",
       "      <th>...</th>\n",
       "      <td>...</td>\n",
       "      <td>...</td>\n",
       "    </tr>\n",
       "    <tr>\n",
       "      <th>2020-08-21</th>\n",
       "      <td>492.309998</td>\n",
       "      <td>483.447601</td>\n",
       "    </tr>\n",
       "    <tr>\n",
       "      <th>2020-08-24</th>\n",
       "      <td>488.809998</td>\n",
       "      <td>486.760498</td>\n",
       "    </tr>\n",
       "    <tr>\n",
       "      <th>2020-08-25</th>\n",
       "      <td>490.579987</td>\n",
       "      <td>487.665924</td>\n",
       "    </tr>\n",
       "    <tr>\n",
       "      <th>2020-08-26</th>\n",
       "      <td>547.530029</td>\n",
       "      <td>487.699432</td>\n",
       "    </tr>\n",
       "    <tr>\n",
       "      <th>2020-08-27</th>\n",
       "      <td>526.270020</td>\n",
       "      <td>501.754761</td>\n",
       "    </tr>\n",
       "  </tbody>\n",
       "</table>\n",
       "<p>1290 rows × 2 columns</p>\n",
       "</div>"
      ],
      "text/plain": [
       "                 Close   Predicted\n",
       "Date                              \n",
       "2015-07-16  115.809998   99.956787\n",
       "2015-07-17  114.769997  104.446663\n",
       "2015-07-20  110.550003  109.229118\n",
       "2015-07-21  112.510002  111.865112\n",
       "2015-07-22  111.500000  113.371765\n",
       "...                ...         ...\n",
       "2020-08-21  492.309998  483.447601\n",
       "2020-08-24  488.809998  486.760498\n",
       "2020-08-25  490.579987  487.665924\n",
       "2020-08-26  547.530029  487.699432\n",
       "2020-08-27  526.270020  501.754761\n",
       "\n",
       "[1290 rows x 2 columns]"
      ]
     },
     "execution_count": 91,
     "metadata": {},
     "output_type": "execute_result"
    }
   ],
   "source": [
    "#lets check our predictions with actual values\n",
    "actual"
   ]
  },
  {
   "cell_type": "code",
   "execution_count": 92,
   "id": "ac414867",
   "metadata": {},
   "outputs": [
    {
     "data": {
      "image/png": "[encoded data removed]",
      "text/plain": [
       "<Figure size 1152x576 with 1 Axes>"
      ]
     },
     "metadata": {
      "needs_background": "light"
     },
     "output_type": "display_data"
    }
   ],
   "source": [
    "plt.figure(figsize=(16,8))\n",
    "plt.plot(train[\"Close\"])\n",
    "plt.plot(actual[[\"Close\",\"Predicted\"]])\n",
    "plt.legend([\"Training\",\"Actual\",\"Predicted\"])\n",
    "plt.show()"
   ]
  },
  {
   "cell_type": "markdown",
   "id": "6f3701df",
   "metadata": {},
   "source": [
    "# predicting the next day's stock's close price"
   ]
  },
  {
   "cell_type": "code",
   "execution_count": 93,
   "id": "e43efa19",
   "metadata": {},
   "outputs": [
    {
     "data": {
      "text/html": [
       "<div>\n",
       "<style scoped>\n",
       "    .dataframe tbody tr th:only-of-type {\n",
       "        vertical-align: middle;\n",
       "    }\n",
       "\n",
       "    .dataframe tbody tr th {\n",
       "        vertical-align: top;\n",
       "    }\n",
       "\n",
       "    .dataframe thead th {\n",
       "        text-align: right;\n",
       "    }\n",
       "</style>\n",
       "<table border=\"1\" class=\"dataframe\">\n",
       "  <thead>\n",
       "    <tr style=\"text-align: right;\">\n",
       "      <th></th>\n",
       "      <th>Open</th>\n",
       "      <th>High</th>\n",
       "      <th>Low</th>\n",
       "      <th>Close</th>\n",
       "      <th>Adj Close</th>\n",
       "      <th>Volume</th>\n",
       "    </tr>\n",
       "    <tr>\n",
       "      <th>Date</th>\n",
       "      <th></th>\n",
       "      <th></th>\n",
       "      <th></th>\n",
       "      <th></th>\n",
       "      <th></th>\n",
       "      <th></th>\n",
       "    </tr>\n",
       "  </thead>\n",
       "  <tbody>\n",
       "    <tr>\n",
       "      <th>2003-08-01</th>\n",
       "      <td>1.851429</td>\n",
       "      <td>1.857143</td>\n",
       "      <td>1.782143</td>\n",
       "      <td>1.782143</td>\n",
       "      <td>1.782143</td>\n",
       "      <td>6339200</td>\n",
       "    </tr>\n",
       "    <tr>\n",
       "      <th>2003-08-04</th>\n",
       "      <td>1.782143</td>\n",
       "      <td>1.797143</td>\n",
       "      <td>1.735714</td>\n",
       "      <td>1.782143</td>\n",
       "      <td>1.782143</td>\n",
       "      <td>3676400</td>\n",
       "    </tr>\n",
       "    <tr>\n",
       "      <th>2003-08-05</th>\n",
       "      <td>1.792857</td>\n",
       "      <td>1.817857</td>\n",
       "      <td>1.732857</td>\n",
       "      <td>1.736429</td>\n",
       "      <td>1.736429</td>\n",
       "      <td>3084200</td>\n",
       "    </tr>\n",
       "    <tr>\n",
       "      <th>2003-08-06</th>\n",
       "      <td>1.742857</td>\n",
       "      <td>1.750000</td>\n",
       "      <td>1.633571</td>\n",
       "      <td>1.668571</td>\n",
       "      <td>1.668571</td>\n",
       "      <td>8113000</td>\n",
       "    </tr>\n",
       "    <tr>\n",
       "      <th>2003-08-07</th>\n",
       "      <td>1.650714</td>\n",
       "      <td>1.667857</td>\n",
       "      <td>1.614286</td>\n",
       "      <td>1.649286</td>\n",
       "      <td>1.649286</td>\n",
       "      <td>7893200</td>\n",
       "    </tr>\n",
       "  </tbody>\n",
       "</table>\n",
       "</div>"
      ],
      "text/plain": [
       "                Open      High       Low     Close  Adj Close   Volume\n",
       "Date                                                                  \n",
       "2003-08-01  1.851429  1.857143  1.782143  1.782143   1.782143  6339200\n",
       "2003-08-04  1.782143  1.797143  1.735714  1.782143   1.782143  3676400\n",
       "2003-08-05  1.792857  1.817857  1.732857  1.736429   1.736429  3084200\n",
       "2003-08-06  1.742857  1.750000  1.633571  1.668571   1.668571  8113000\n",
       "2003-08-07  1.650714  1.667857  1.614286  1.649286   1.649286  7893200"
      ]
     },
     "execution_count": 93,
     "metadata": {},
     "output_type": "execute_result"
    }
   ],
   "source": [
    "df.head()"
   ]
  },
  {
   "cell_type": "code",
   "execution_count": 96,
   "id": "2c9207dc",
   "metadata": {},
   "outputs": [],
   "source": [
    "my_new_df=df"
   ]
  },
  {
   "cell_type": "code",
   "execution_count": 97,
   "id": "c09b076f",
   "metadata": {},
   "outputs": [
    {
     "data": {
      "text/html": [
       "<div>\n",
       "<style scoped>\n",
       "    .dataframe tbody tr th:only-of-type {\n",
       "        vertical-align: middle;\n",
       "    }\n",
       "\n",
       "    .dataframe tbody tr th {\n",
       "        vertical-align: top;\n",
       "    }\n",
       "\n",
       "    .dataframe thead th {\n",
       "        text-align: right;\n",
       "    }\n",
       "</style>\n",
       "<table border=\"1\" class=\"dataframe\">\n",
       "  <thead>\n",
       "    <tr style=\"text-align: right;\">\n",
       "      <th></th>\n",
       "      <th>Open</th>\n",
       "      <th>High</th>\n",
       "      <th>Low</th>\n",
       "      <th>Close</th>\n",
       "      <th>Adj Close</th>\n",
       "      <th>Volume</th>\n",
       "    </tr>\n",
       "    <tr>\n",
       "      <th>Date</th>\n",
       "      <th></th>\n",
       "      <th></th>\n",
       "      <th></th>\n",
       "      <th></th>\n",
       "      <th></th>\n",
       "      <th></th>\n",
       "    </tr>\n",
       "  </thead>\n",
       "  <tbody>\n",
       "    <tr>\n",
       "      <th>2003-08-01</th>\n",
       "      <td>1.851429</td>\n",
       "      <td>1.857143</td>\n",
       "      <td>1.782143</td>\n",
       "      <td>1.782143</td>\n",
       "      <td>1.782143</td>\n",
       "      <td>6339200</td>\n",
       "    </tr>\n",
       "    <tr>\n",
       "      <th>2003-08-04</th>\n",
       "      <td>1.782143</td>\n",
       "      <td>1.797143</td>\n",
       "      <td>1.735714</td>\n",
       "      <td>1.782143</td>\n",
       "      <td>1.782143</td>\n",
       "      <td>3676400</td>\n",
       "    </tr>\n",
       "    <tr>\n",
       "      <th>2003-08-05</th>\n",
       "      <td>1.792857</td>\n",
       "      <td>1.817857</td>\n",
       "      <td>1.732857</td>\n",
       "      <td>1.736429</td>\n",
       "      <td>1.736429</td>\n",
       "      <td>3084200</td>\n",
       "    </tr>\n",
       "    <tr>\n",
       "      <th>2003-08-06</th>\n",
       "      <td>1.742857</td>\n",
       "      <td>1.750000</td>\n",
       "      <td>1.633571</td>\n",
       "      <td>1.668571</td>\n",
       "      <td>1.668571</td>\n",
       "      <td>8113000</td>\n",
       "    </tr>\n",
       "    <tr>\n",
       "      <th>2003-08-07</th>\n",
       "      <td>1.650714</td>\n",
       "      <td>1.667857</td>\n",
       "      <td>1.614286</td>\n",
       "      <td>1.649286</td>\n",
       "      <td>1.649286</td>\n",
       "      <td>7893200</td>\n",
       "    </tr>\n",
       "    <tr>\n",
       "      <th>...</th>\n",
       "      <td>...</td>\n",
       "      <td>...</td>\n",
       "      <td>...</td>\n",
       "      <td>...</td>\n",
       "      <td>...</td>\n",
       "      <td>...</td>\n",
       "    </tr>\n",
       "    <tr>\n",
       "      <th>2020-08-21</th>\n",
       "      <td>496.459991</td>\n",
       "      <td>498.130005</td>\n",
       "      <td>490.000000</td>\n",
       "      <td>492.309998</td>\n",
       "      <td>492.309998</td>\n",
       "      <td>3921300</td>\n",
       "    </tr>\n",
       "    <tr>\n",
       "      <th>2020-08-24</th>\n",
       "      <td>495.440002</td>\n",
       "      <td>501.000000</td>\n",
       "      <td>483.160004</td>\n",
       "      <td>488.809998</td>\n",
       "      <td>488.809998</td>\n",
       "      <td>4762200</td>\n",
       "    </tr>\n",
       "    <tr>\n",
       "      <th>2020-08-25</th>\n",
       "      <td>488.190002</td>\n",
       "      <td>492.470001</td>\n",
       "      <td>485.089996</td>\n",
       "      <td>490.579987</td>\n",
       "      <td>490.579987</td>\n",
       "      <td>5727700</td>\n",
       "    </tr>\n",
       "    <tr>\n",
       "      <th>2020-08-26</th>\n",
       "      <td>492.500000</td>\n",
       "      <td>549.039978</td>\n",
       "      <td>492.079987</td>\n",
       "      <td>547.530029</td>\n",
       "      <td>547.530029</td>\n",
       "      <td>20373700</td>\n",
       "    </tr>\n",
       "    <tr>\n",
       "      <th>2020-08-27</th>\n",
       "      <td>537.780029</td>\n",
       "      <td>541.000000</td>\n",
       "      <td>521.250000</td>\n",
       "      <td>526.270020</td>\n",
       "      <td>526.270020</td>\n",
       "      <td>9062900</td>\n",
       "    </tr>\n",
       "  </tbody>\n",
       "</table>\n",
       "<p>4299 rows × 6 columns</p>\n",
       "</div>"
      ],
      "text/plain": [
       "                  Open        High         Low       Close   Adj Close  \\\n",
       "Date                                                                     \n",
       "2003-08-01    1.851429    1.857143    1.782143    1.782143    1.782143   \n",
       "2003-08-04    1.782143    1.797143    1.735714    1.782143    1.782143   \n",
       "2003-08-05    1.792857    1.817857    1.732857    1.736429    1.736429   \n",
       "2003-08-06    1.742857    1.750000    1.633571    1.668571    1.668571   \n",
       "2003-08-07    1.650714    1.667857    1.614286    1.649286    1.649286   \n",
       "...                ...         ...         ...         ...         ...   \n",
       "2020-08-21  496.459991  498.130005  490.000000  492.309998  492.309998   \n",
       "2020-08-24  495.440002  501.000000  483.160004  488.809998  488.809998   \n",
       "2020-08-25  488.190002  492.470001  485.089996  490.579987  490.579987   \n",
       "2020-08-26  492.500000  549.039978  492.079987  547.530029  547.530029   \n",
       "2020-08-27  537.780029  541.000000  521.250000  526.270020  526.270020   \n",
       "\n",
       "              Volume  \n",
       "Date                  \n",
       "2003-08-01   6339200  \n",
       "2003-08-04   3676400  \n",
       "2003-08-05   3084200  \n",
       "2003-08-06   8113000  \n",
       "2003-08-07   7893200  \n",
       "...              ...  \n",
       "2020-08-21   3921300  \n",
       "2020-08-24   4762200  \n",
       "2020-08-25   5727700  \n",
       "2020-08-26  20373700  \n",
       "2020-08-27   9062900  \n",
       "\n",
       "[4299 rows x 6 columns]"
      ]
     },
     "execution_count": 97,
     "metadata": {},
     "output_type": "execute_result"
    }
   ],
   "source": [
    "my_new_df"
   ]
  },
  {
   "cell_type": "code",
   "execution_count": 99,
   "id": "746dd99f",
   "metadata": {},
   "outputs": [
    {
     "name": "stdout",
     "output_type": "stream",
     "text": [
      "1/1 [==============================] - 0s 26ms/step\n",
      "[[512.96356]]\n"
     ]
    }
   ],
   "source": [
    "my_new_df1=my_new_df.filter([\"Close\"])\n",
    "#taking last 60 data\n",
    "history_data=my_new_df1[-60:].values\n",
    "#data scaling\n",
    "history_data_scaled=Scaler.transform(history_data)\n",
    "\n",
    "#creating an empty list\n",
    "X_test=[]\n",
    "\n",
    "#append the history data\n",
    "X_test.append(history_data_scaled)\n",
    "\n",
    "#converting into an numpy array\n",
    "X_test=np.array(X_test)\n",
    "\n",
    "#reshape\n",
    "X_test=np.reshape(X_test,(X_test.shape[0],X_test.shape[1],1))\n",
    "\n",
    "#prediction\n",
    "prediction=model.predict(X_test)\n",
    "\n",
    "prediction=Scaler.inverse_transform(prediction)\n",
    "print(prediction)"
   ]
  },
  {
   "cell_type": "code",
   "execution_count": null,
   "id": "0738c8ba",
   "metadata": {},
   "outputs": [],
   "source": []
  }
 ],
 "metadata": {
  "kernelspec": {
   "display_name": "Python 3 (ipykernel)",
   "language": "python",
   "name": "python3"
  },
  "language_info": {
   "codemirror_mode": {
    "name": "ipython",
    "version": 3
   },
   "file_extension": ".py",
   "mimetype": "text/x-python",
   "name": "python",
   "nbconvert_exporter": "python",
   "pygments_lexer": "ipython3",
   "version": "3.9.7"
  }
 },
 "nbformat": 4,
 "nbformat_minor": 5
}
